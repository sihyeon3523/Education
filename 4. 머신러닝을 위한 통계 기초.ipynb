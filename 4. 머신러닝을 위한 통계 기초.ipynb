{
 "cells": [
  {
   "cell_type": "markdown",
   "metadata": {},
   "source": [
    "### 통계학이란? \n",
    "\n",
    "    통계학\n",
    "    수치 데이터의 수집, 분석, 해석, 표현 등을 다루는 수학의 한 분야로 크게 기술 통계학과 추론 통계학으로 분류됨 \n",
    "\n",
    "    기술 통계학: 연속형 데이터 -> 평균, 표준편차와 같은 자료 요약\n",
    "                 범주형 데이터 -> 빈도, 백분율과 같은 자료 요약\n",
    "    추론 통계학: 표본이라 불리는 일부 자료를 수집해 전체 모집합에 대한 결론을 유추\n",
    "    추론은 가설 검정, 수치의 특징 계산, 데이터 간의 상관관계 등을 통해 이루어짐\n",
    "\n",
    "    데이터에 통계학을 적용해 변수의 유의성을 분석함으로써 데이터의 숨겨진 특징을 찾아내는 것을 통계 모델링이라고함 "
   ]
  },
  {
   "cell_type": "markdown",
   "metadata": {},
   "source": [
    "### 머신러닝 이해에 필요한 통계학 핵심 개념\n",
    "    통계 모델은 수학적 모델 -> 변수들로 이루어진 수학식을 계산해 실제 값을 추정하는 방법\n",
    "    통계 모델을 이루는 여러 가정은 확률 분포를 따름\n",
    "    통계 모델은 모든 변수가 만족해야 하는 기본 가정으로 시작하며, 이 조건이 만족할 떄만 모델의 성능이 통계적으로 의미를 가짐"
   ]
  },
  {
   "cell_type": "markdown",
   "metadata": {},
   "source": [
    "#### 모집단과 표본\n",
    "\n",
    "    모집단: 모든 관측값 또는 분석 대상의 전체 데이터를 의미\n",
    "    표본: 모집단의 부분 집합으로, 분석 대상 중인 전체 데이터의 일부분\n",
    "\n",
    "***모집단 대상이냐 표본 대상이냐에 따라 통계 모델링 기법이 달라짐 "
   ]
  },
  {
   "cell_type": "markdown",
   "metadata": {},
   "source": [
    "#### 모수와 통계량 \n",
    "\n",
    "    모수: 모집단의 특징을 나타내는 수치값\n",
    "    통계량: 표본의 특징을 나타내는 수치값으로, 모수 추정을 위해 사용\n",
    "        평균, 중앙값, 최빈값, 분산 등과 같은 데이터를 대표하는 값\n",
    "        \n",
    "    정규분포는 좌우가 균등하므로, 평균, 중앙값, 최빈값이 모두 중앙에 위치함 \n",
    "    좌우로 치우친 경우 세 개의 값의 위치가 다름 \n",
    "    평균, 중앙값, 최빈값에 따라 데이터의 분포를 유추할 수 있음 \n",
    "\n",
    "***통계량이 실제 모집단을 대표하는 값이 될 때 통계적 유의성을 확보할 수 있음 "
   ]
  },
  {
   "cell_type": "code",
   "execution_count": 6,
   "metadata": {},
   "outputs": [
    {
     "name": "stdout",
     "output_type": "stream",
     "text": [
      "평균값:  49.17\n",
      "중앙값:  49.0\n",
      "최빈값: 3(125)\n"
     ]
    }
   ],
   "source": [
    "import numpy as np\n",
    "from scipy import stats\n",
    "\n",
    "np.random.seed(0)\n",
    "\n",
    "data = np.random.randint(0, 100, 10000)\n",
    "\n",
    "type(data)\n",
    "mean = np.mean(data); print(\"평균값: \", mean.round(2))\n",
    "median = np.median(data); print(\"중앙값: \", median)\n",
    "mode = stats.mode(data); print('최빈값: {}({})'.format(mode[0][0], mode[1][0])) \n",
    "# mode[0][0] :mode ,  mode[1][0] : count \n",
    "# numpy 는 최빈값과 관련된 함수는 제공하지 않으므로, scipy 패키지의 status 모듈에 있는 mode 함수 사용"
   ]
  },
  {
   "cell_type": "code",
   "execution_count": 7,
   "metadata": {},
   "outputs": [
    {
     "data": {
      "text/plain": [
       "ModeResult(mode=array([3]), count=array([125]))"
      ]
     },
     "execution_count": 7,
     "metadata": {},
     "output_type": "execute_result"
    }
   ],
   "source": [
    "mode"
   ]
  },
  {
   "cell_type": "markdown",
   "metadata": {},
   "source": [
    "#### 분산, 표준편차, 범위, 사분위수\n",
    "\n",
    "    통계에서 가장 중요한 개념: 변량 \n",
    "\n",
    "    변량의 측정: 산포는 데이터의 변량을 의미하며, 데이터가 얼마나 중심으로 모이지 않고 흩어져 있는지를 설명\n",
    "\n",
    "    분산: 평균과의 거리를 제곱한 값의 평균\n",
    "\n",
    "    표준편차: 분산의 제곱근 (합리적인 크기로 작아져 중요한 개념이 됨) \n",
    "\n",
    "    범위: 최대값과 최소값의 차이\n",
    "\n",
    "    사분위수: 데이터를 4등분한 값. 25% 값을 1사분위수(Q1), 50% 값을 2사분위수(Q2), 75% 값을 3사분위수(Q3)\n",
    "    \n",
    "    IQR: Interquartile Range. Q1과 Q3의 차이 \n",
    "    IQR은 이상치를 판별하여 통계 결과의 신뢰성을 높이므로 꼭 필요함 !!"
   ]
  },
  {
   "cell_type": "code",
   "execution_count": 9,
   "metadata": {},
   "outputs": [
    {
     "name": "stdout",
     "output_type": "stream",
     "text": [
      "분산:  662\n",
      "표준편차:  25.73\n",
      "범위:  79\n",
      "사분위수:\n",
      "0% => 9.0\n",
      "25% => 42.75\n",
      "50% => 64.5\n",
      "75% => 84.0\n",
      "100% => 88.0\n",
      "IQR:  49.0\n"
     ]
    }
   ],
   "source": [
    "from statistics import variance, stdev # 분산, 표준편차 \n",
    "import numpy as np\n",
    "\n",
    "np.random.seed(0)\n",
    "points = np.random.randint(0, 100, 20) # 0부터 100까지의 20개의 데이터를 가져온다 \n",
    "var = variance(points); print(\"분산: \", var)\n",
    "std = stdev(points); print(\"표준편차: \", np.round(std, 2)) # 소수 셋째 자리에서 반올림\n",
    "range = np.max(points) - np.min(points); print(\"범위: \", range)\n",
    "print(\"사분위수:\")\n",
    "for val in [0,25,50,75,100]:\n",
    "    quantile = np.percentile(points, val) # 분위수를 구하는 함수: percentile\n",
    "    print(\"{}% => {}\".format(val, quantile))\n",
    "\n",
    "q1, q3 = np.percentile(data, [25, 75])\n",
    "print(\"IQR: \",q3 - q1)\n"
   ]
  },
  {
   "cell_type": "markdown",
   "metadata": {},
   "source": [
    "#### 가설 검정과 P-value\n",
    "\n",
    "    대립가설(연구가설, alternaltive hypersis, h1): 연구를 할 때 세우는 가설을 의미함\n",
    "    귀무가설: 통계적으로 의미가 있다는 것을 의미할 때 사용 \n",
    "    가설 검정:\n",
    "\n",
    "    - 표본에 대한 통계적 테스트를 수행해 전체 모집단에 대한 추론을 만드는 과정으로, 귀무 가설과 대립가설을 통해 가정이 통계적으로 의미가 있는 검정함 \n",
    "\n",
    "    - 모델링에서 각 독립변수에 대해 0.05보다 작은 p-value 는 유의미하다고 간주함 "
   ]
  },
  {
   "cell_type": "markdown",
   "metadata": {},
   "source": [
    "#### 가설 검정의 단계\n",
    "\n",
    "    귀무가설 정의\n",
    "    표본 추출 \n",
    "    검정통계량에 따른 귀무가설의 통계적 유의성 확인 (기준이 되는 값=p-value/ 0.05 미만이면 기각, 이상이면 채택)\n",
    "    검정통계량에 따라 귀무가설 채택 또는 기각 "
   ]
  },
  {
   "cell_type": "markdown",
   "metadata": {},
   "source": [
    "    p-value: 귀무가설이 옳다는 전제 하에 표본에서 실제로 관측된 통계값과 같거나 더 극단적인 통계값이 관측될 확률\n",
    "    \n",
    "    한 빵집에서 생산되는 식빵의 무게가 최소 200g이라고 주장할 경우, 표본 20개를 추출해 구한 평균 무게가 196g이고, 표준편차는 5.3g이었다면, 유의수준 5%(0.05)로 위의 주장을 기각할 수 있을까? \n",
    "\n",
    "    귀무가설 : 모든 식빵의 무게는 200g 이상이다.\n",
    "    * 귀무가설을 기각하려면 p-value가 0.05보다 작아야 한다 \n",
    "\n",
    "    표본 : x바(표본의 평균)=196, s(표본의 표준편차)=5.3 , n(표본크기)=20"
   ]
  },
  {
   "cell_type": "code",
   "execution_count": 13,
   "metadata": {},
   "outputs": [
    {
     "name": "stdout",
     "output_type": "stream",
     "text": [
      "검정통계량:  -3.38\n",
      "t-table로부터의 임계값:  -1.729\n",
      "t-table의 아래쪽 꼬리 p 값:  0.0016\n"
     ]
    }
   ],
   "source": [
    "import numpy as np\n",
    "from scipy import stats\n",
    "\n",
    "x_bar, mu, s, n = 196, 200, 5.3, 20\n",
    "\n",
    "# 단일 표본 t 검정 \n",
    "t_sample = (x_bar - mu) / (s / np.sqrt(float(n)))\n",
    "print(\"검정통계량: \",np.round(t_sample, 2))\n",
    "\n",
    "alpha = 0.05 # 유의수준 \n",
    "t_alpha = stats.t.ppf(alpha, n-1)\n",
    "print(\"t-table로부터의 임계값: \",np.round(t_alpha, 3))\n",
    "\n",
    "p_value = stats.t.sf(np.abs(t_sample), n-1) # abs 절대값 \n",
    "print(\"t-table의 아래쪽 꼬리 p 값: \",np.round(p_value, 4))\n",
    "\n",
    "# p-value 는 t값 까지의 면적을 의미 "
   ]
  },
  {
   "cell_type": "code",
   "execution_count": 14,
   "metadata": {},
   "outputs": [],
   "source": [
    "# p-value 값이 0.05 보다 작으므로 귀무가설 기각 = 당신이 주장하는 것은 통계적으로 유의미하지 않다. "
   ]
  },
  {
   "cell_type": "markdown",
   "metadata": {},
   "source": [
    "#### 정규분포\n",
    "\n",
    "    정규분포:\n",
    "    - 중심 극한 정리에 따르면 평균이 뮤이고 분산이 시그마 제곱(표준편차가 시그마)인 모집단으로부터 가능한 모든 n개의 조합을 표본으로 추출하면 표본의 평균은 정규 분포에 접근함 (확률밀도함수)\n",
    "\n",
    "    시험 점수가 정규분포를 따른다고 가정할 경우, 평균 점수가 56점이고 표준편차가 13.6인 경우, 75점 이상을 받은 학생들은 몇 %일까? \n",
    "    -> 정규분포를 따르므로 표준정규분포로 바꿔 계산(0,1)"
   ]
  },
  {
   "cell_type": "code",
   "execution_count": 15,
   "metadata": {},
   "outputs": [
    {
     "data": {
      "image/png": "[encoded data removed]",
      "text/plain": [
       "<Figure size 432x288 with 1 Axes>"
      ]
     },
     "metadata": {},
     "output_type": "display_data"
    }
   ],
   "source": [
    "import matplotlib.pyplot as plt\n",
    "\n",
    "\n",
    "# In[8]:\n",
    "\n",
    "\n",
    "get_ipython().run_line_magic('matplotlib', 'inline')\n",
    "\n",
    "\n",
    "# In[9]:\n",
    "\n",
    "\n",
    "plt.style.use(\"seaborn-white\")\n",
    "\n",
    "\n",
    "# In[10]:\n",
    "\n",
    "\n",
    "mu, std = 0, 1\n",
    "rv = stats.norm(mu, std)\n",
    "\n",
    "\n",
    "# In[11]:\n",
    "\n",
    "\n",
    "x = np.linspace(-5, 5, 1000)\n",
    "d = rv.pdf(x)\n",
    "\n",
    "\n",
    "# In[12]:\n",
    "\n",
    "\n",
    "ax = plt.axes()\n",
    "ax.plot(x, d)\n",
    "\n",
    "ax.fill_between(x, d, where=x <= t_alpha, color=(0, 0, 0, 0.1))\n",
    "y = rv.pdf(t_alpha)\n",
    "ax.plot([t_alpha, t_alpha], [0, y], color=(0, 0, 0, 0.5))\n",
    "ax.margins(0, 0)"
   ]
  },
  {
   "cell_type": "code",
   "execution_count": 16,
   "metadata": {},
   "outputs": [
    {
     "name": "stdout",
     "output_type": "stream",
     "text": [
      "z-score:  1.4\n",
      "학생이 75점 이상 받을 확률: 8.12%\n"
     ]
    }
   ],
   "source": [
    "x, mu, sigma = 75, 56, 13.6\n",
    "\n",
    "z = (x - mu) / sigma\n",
    "print(\"z-score: \", np.round(z, 2))\n",
    "\n",
    "p_value = 1 - stats.norm.cdf(z) # cdf 누적확률분포함수 \n",
    "print(\"학생이 {}점 이상 받을 확률: {}%\".format(x,np.round(p_value*100,2)))"
   ]
  },
  {
   "cell_type": "code",
   "execution_count": 17,
   "metadata": {},
   "outputs": [
    {
     "data": {
      "image/png": "[encoded data removed]",
      "text/plain": [
       "<Figure size 432x288 with 1 Axes>"
      ]
     },
     "metadata": {},
     "output_type": "display_data"
    }
   ],
   "source": [
    "np.round(p_value * 100, 2)\n",
    "\n",
    "\n",
    "# In[17]:\n",
    "\n",
    "\n",
    "rv = stats.norm(mu, sigma)\n",
    "\n",
    "\n",
    "# In[23]:\n",
    "\n",
    "\n",
    "xp = np.linspace(0, 100, 1000)\n",
    "d = rv.pdf(xp)\n",
    "\n",
    "\n",
    "# In[25]:\n",
    "\n",
    "\n",
    "ax = plt.axes()\n",
    "ax.plot(xp, d)\n",
    "\n",
    "ax.fill_between(xp, d, where=xp >= x, color=(0, 0, 0, 0.1))\n",
    "y = rv.pdf(x)\n",
    "ax.plot([x, x], [0, y], color=(0, 0, 0, 0.5))\n",
    "ax.margins(0, 0)"
   ]
  },
  {
   "cell_type": "markdown",
   "metadata": {},
   "source": [
    "#### 카이제곱 독립성 검정\n",
    "\n",
    "    카이제곱 검정은 독립성 검정을 하는 검정 기법 \n",
    "\n",
    "    카이제곱 독립성 검정:\n",
    "    범주형 데이터의 통계 분석에 가장 보편적으로 사용되는 검정으로, 2개의 범주형 변수 사이에 통계적 상관성이 존재하는지를 판단함\n",
    "\n",
    "    흡연이 운동에 영향을 미칠까? "
   ]
  },
  {
   "cell_type": "code",
   "execution_count": 19,
   "metadata": {},
   "outputs": [
    {
     "data": {
      "text/html": [
       "<div>\n",
       "<style scoped>\n",
       "    .dataframe tbody tr th:only-of-type {\n",
       "        vertical-align: middle;\n",
       "    }\n",
       "\n",
       "    .dataframe tbody tr th {\n",
       "        vertical-align: top;\n",
       "    }\n",
       "\n",
       "    .dataframe thead th {\n",
       "        text-align: right;\n",
       "    }\n",
       "</style>\n",
       "<table border=\"1\" class=\"dataframe\">\n",
       "  <thead>\n",
       "    <tr style=\"text-align: right;\">\n",
       "      <th></th>\n",
       "      <th>smoke</th>\n",
       "      <th>exercise</th>\n",
       "    </tr>\n",
       "  </thead>\n",
       "  <tbody>\n",
       "    <tr>\n",
       "      <th>0</th>\n",
       "      <td>안함</td>\n",
       "      <td>안함</td>\n",
       "    </tr>\n",
       "    <tr>\n",
       "      <th>1</th>\n",
       "      <td>심함</td>\n",
       "      <td>안함</td>\n",
       "    </tr>\n",
       "    <tr>\n",
       "      <th>2</th>\n",
       "      <td>가끔</td>\n",
       "      <td>매일</td>\n",
       "    </tr>\n",
       "    <tr>\n",
       "      <th>3</th>\n",
       "      <td>안함</td>\n",
       "      <td>가끔</td>\n",
       "    </tr>\n",
       "    <tr>\n",
       "      <th>4</th>\n",
       "      <td>심함</td>\n",
       "      <td>가끔</td>\n",
       "    </tr>\n",
       "  </tbody>\n",
       "</table>\n",
       "</div>"
      ],
      "text/plain": [
       "  smoke exercise\n",
       "0    안함       안함\n",
       "1    심함       안함\n",
       "2    가끔       매일\n",
       "3    안함       가끔\n",
       "4    심함       가끔"
      ]
     },
     "execution_count": 19,
     "metadata": {},
     "output_type": "execute_result"
    }
   ],
   "source": [
    "import numpy as np \n",
    "import pandas as pd\n",
    "from scipy import stats\n",
    "\n",
    "# 독립성 검정을 위한 데이터 \n",
    "\n",
    "np.random.seed(0)\n",
    "\n",
    "smoke=[\"안함\",\"가끔\",\"매일\",\"심함\"]\n",
    "exercise=[\"안함\",'가끔','매일']\n",
    "\n",
    "data = {\"smoke\": np.random.choice(smoke, size=500), \"exercise\":np.random.choice(exercise, size=500)}\n",
    "df = pd.DataFrame(data, columns=[\"smoke\",\"exercise\"])\n",
    "df.head()"
   ]
  },
  {
   "cell_type": "code",
   "execution_count": 20,
   "metadata": {},
   "outputs": [
    {
     "data": {
      "text/html": [
       "<div>\n",
       "<style scoped>\n",
       "    .dataframe tbody tr th:only-of-type {\n",
       "        vertical-align: middle;\n",
       "    }\n",
       "\n",
       "    .dataframe tbody tr th {\n",
       "        vertical-align: top;\n",
       "    }\n",
       "\n",
       "    .dataframe thead th {\n",
       "        text-align: right;\n",
       "    }\n",
       "</style>\n",
       "<table border=\"1\" class=\"dataframe\">\n",
       "  <thead>\n",
       "    <tr style=\"text-align: right;\">\n",
       "      <th>exercise</th>\n",
       "      <th>가끔</th>\n",
       "      <th>매일</th>\n",
       "      <th>안함</th>\n",
       "    </tr>\n",
       "    <tr>\n",
       "      <th>smoke</th>\n",
       "      <th></th>\n",
       "      <th></th>\n",
       "      <th></th>\n",
       "    </tr>\n",
       "  </thead>\n",
       "  <tbody>\n",
       "    <tr>\n",
       "      <th>가끔</th>\n",
       "      <td>38</td>\n",
       "      <td>39</td>\n",
       "      <td>45</td>\n",
       "    </tr>\n",
       "    <tr>\n",
       "      <th>매일</th>\n",
       "      <td>34</td>\n",
       "      <td>44</td>\n",
       "      <td>33</td>\n",
       "    </tr>\n",
       "    <tr>\n",
       "      <th>심함</th>\n",
       "      <td>45</td>\n",
       "      <td>44</td>\n",
       "      <td>51</td>\n",
       "    </tr>\n",
       "    <tr>\n",
       "      <th>안함</th>\n",
       "      <td>47</td>\n",
       "      <td>41</td>\n",
       "      <td>39</td>\n",
       "    </tr>\n",
       "  </tbody>\n",
       "</table>\n",
       "</div>"
      ],
      "text/plain": [
       "exercise  가끔  매일  안함\n",
       "smoke               \n",
       "가끔        38  39  45\n",
       "매일        34  44  33\n",
       "심함        45  44  51\n",
       "안함        47  41  39"
      ]
     },
     "execution_count": 20,
     "metadata": {},
     "output_type": "execute_result"
    }
   ],
   "source": [
    "# pandas 함수를 이용해 독립성 검정 분할표 만들기\n",
    "# 2개의 범주형 변수가 독립이냐 상관관계냐를 파악하려고 할 때 카이제곱 분포를 사용 \n",
    "\n",
    "xtab = pd.crosstab(df.smoke, df.exercise)\n",
    "xtab"
   ]
  },
  {
   "cell_type": "code",
   "execution_count": 21,
   "metadata": {},
   "outputs": [
    {
     "name": "stdout",
     "output_type": "stream",
     "text": [
      "p-value:  0.668\n"
     ]
    }
   ],
   "source": [
    "contg = stats.chi2_contingency(observed=xtab) # chi2_contingency : 2개의 범주형 변수가 독립이냐 상관관계냐를 파악\n",
    "p_val = np.round(contg[1],3)\n",
    "print(\"p-값: \",p_val) # 흡연 습관과는 운동과 상관관계가 없다. "
   ]
  },
  {
   "cell_type": "code",
   "execution_count": 22,
   "metadata": {},
   "outputs": [
    {
     "data": {
      "text/plain": [
       "(4.064739553068125, 0.667915629272182, 6, array([[40.016, 40.992, 40.992],\n",
       "        [36.408, 37.296, 37.296],\n",
       "        [45.92 , 47.04 , 47.04 ],\n",
       "        [41.656, 42.672, 42.672]]))"
      ]
     },
     "execution_count": 22,
     "metadata": {},
     "output_type": "execute_result"
    }
   ],
   "source": [
    "contg # ch2, p-value, dof, expected"
   ]
  },
  {
   "cell_type": "markdown",
   "metadata": {},
   "source": [
    "#### ANOVA 분산 분석\n",
    "\n",
    "    ANOVA 분산 분석\n",
    "    - Analysis of variance\n",
    "    - 모집단이 셋 이상인 경우, 이들의 평균이 서로 동일한지 테스트함\n",
    "    - 귀무가설: 모든 모집단의 평균에 차이가 없다\n",
    "    - 대립가설: 적어도 하나의 모집단의 평균에 차이가 있다\n",
    "\n",
    "    10명의 환자를 대상으로 A,B,C 세 가지 수면제 약효(수면시간)를 각각 테스트할 경우, 유의수준 0.05 에서 A,B,C 수면제의 평균 수면시간은 동일한가? "
   ]
  },
  {
   "cell_type": "markdown",
   "metadata": {},
   "source": [
    "#### T-검정은 두 집단의 평균 차이, ANOVA는 셋 이상의 평균 차이 검정"
   ]
  },
  {
   "cell_type": "code",
   "execution_count": 24,
   "metadata": {},
   "outputs": [
    {
     "data": {
      "text/html": [
       "<div>\n",
       "<style scoped>\n",
       "    .dataframe tbody tr th:only-of-type {\n",
       "        vertical-align: middle;\n",
       "    }\n",
       "\n",
       "    .dataframe tbody tr th {\n",
       "        vertical-align: top;\n",
       "    }\n",
       "\n",
       "    .dataframe thead th {\n",
       "        text-align: right;\n",
       "    }\n",
       "</style>\n",
       "<table border=\"1\" class=\"dataframe\">\n",
       "  <thead>\n",
       "    <tr style=\"text-align: right;\">\n",
       "      <th></th>\n",
       "      <th>A</th>\n",
       "      <th>B</th>\n",
       "      <th>C</th>\n",
       "    </tr>\n",
       "  </thead>\n",
       "  <tbody>\n",
       "    <tr>\n",
       "      <th>0</th>\n",
       "      <td>5.5</td>\n",
       "      <td>7.2</td>\n",
       "      <td>6.0</td>\n",
       "    </tr>\n",
       "    <tr>\n",
       "      <th>1</th>\n",
       "      <td>5.4</td>\n",
       "      <td>4.2</td>\n",
       "      <td>6.5</td>\n",
       "    </tr>\n",
       "    <tr>\n",
       "      <th>2</th>\n",
       "      <td>4.4</td>\n",
       "      <td>8.9</td>\n",
       "      <td>9.6</td>\n",
       "    </tr>\n",
       "    <tr>\n",
       "      <th>3</th>\n",
       "      <td>3.8</td>\n",
       "      <td>7.9</td>\n",
       "      <td>5.3</td>\n",
       "    </tr>\n",
       "    <tr>\n",
       "      <th>4</th>\n",
       "      <td>5.7</td>\n",
       "      <td>9.3</td>\n",
       "      <td>0.7</td>\n",
       "    </tr>\n",
       "    <tr>\n",
       "      <th>5</th>\n",
       "      <td>0.9</td>\n",
       "      <td>0.2</td>\n",
       "      <td>8.3</td>\n",
       "    </tr>\n",
       "    <tr>\n",
       "      <th>6</th>\n",
       "      <td>7.8</td>\n",
       "      <td>8.7</td>\n",
       "      <td>9.8</td>\n",
       "    </tr>\n",
       "    <tr>\n",
       "      <th>7</th>\n",
       "      <td>8.0</td>\n",
       "      <td>4.6</td>\n",
       "      <td>7.8</td>\n",
       "    </tr>\n",
       "    <tr>\n",
       "      <th>8</th>\n",
       "      <td>1.2</td>\n",
       "      <td>6.4</td>\n",
       "      <td>1.4</td>\n",
       "    </tr>\n",
       "    <tr>\n",
       "      <th>9</th>\n",
       "      <td>9.4</td>\n",
       "      <td>5.2</td>\n",
       "      <td>4.1</td>\n",
       "    </tr>\n",
       "  </tbody>\n",
       "</table>\n",
       "</div>"
      ],
      "text/plain": [
       "     A    B    C\n",
       "0  5.5  7.2  6.0\n",
       "1  5.4  4.2  6.5\n",
       "2  4.4  8.9  9.6\n",
       "3  3.8  7.9  5.3\n",
       "4  5.7  9.3  0.7\n",
       "5  0.9  0.2  8.3\n",
       "6  7.8  8.7  9.8\n",
       "7  8.0  4.6  7.8\n",
       "8  1.2  6.4  1.4\n",
       "9  9.4  5.2  4.1"
      ]
     },
     "execution_count": 24,
     "metadata": {},
     "output_type": "execute_result"
    }
   ],
   "source": [
    "np.random.seed(0)\n",
    "\n",
    "data =(np.random.rand(30).round(2)*10).reshape(-1,3) # rand 0에서 1사이의 값 중 30개\n",
    "df = pd.DataFrame(data=data, columns=[\"A\",\"B\",\"C\"])\n",
    "df\n",
    "\n",
    "# \"A\",\"B\",\"C\" 의 약을 먹었을 때 수면시간을 의미 "
   ]
  },
  {
   "cell_type": "code",
   "execution_count": 26,
   "metadata": {},
   "outputs": [
    {
     "name": "stdout",
     "output_type": "stream",
     "text": [
      "통계량: 0.34, p-value: 0.713\n"
     ]
    }
   ],
   "source": [
    "one_way_anova = stats.f_oneway(df.A, df.B, df.C) \n",
    "# 한개의 범주형 변수를 사용하는 방법 = 일원 분산분석\n",
    "print(\"통계량: {}, p-value: {}\".format(np.round(one_way_anova[0],2),\n",
    "                                    np.round(one_way_anova[1],3)))\n",
    "\n",
    "# 분산분석은 f분포를 따르는 f통계량 사용, ANOVA (F 검정)\n",
    "# 한개의 범주형 변수를 사용하는 두 개 이상의 범주형 변수를 사용하는 이렇게 두가지 방식이 있다 "
   ]
  },
  {
   "cell_type": "code",
   "execution_count": 27,
   "metadata": {},
   "outputs": [
    {
     "data": {
      "text/plain": [
       "F_onewayResult(statistic=0.3419183875936612, pvalue=0.7134376700130741)"
      ]
     },
     "execution_count": 27,
     "metadata": {},
     "output_type": "execute_result"
    }
   ],
   "source": [
    "one_way_anova"
   ]
  },
  {
   "cell_type": "code",
   "execution_count": null,
   "metadata": {},
   "outputs": [],
   "source": [
    "# 귀무가설(세 개의 수면제 약효 평균이 동일하다) 채택. 0.05 보다 크므로 !"
   ]
  },
  {
   "cell_type": "markdown",
   "metadata": {},
   "source": [
    "## 주요 정리 \n",
    "\n",
    "    1. 귀무가설과 대립가설을 통해 가정이 통계적으로 의미가 있는 검정하는 절차를 가설 검정이라고 한다.\n",
    "\n",
    "    2. 가설검정은 귀무가설을 정의하고, 표본을 추출하고, 검정 통계량에 따른 통계적 유의성을 확인 후 귀무가설을 채택하거나 기각하는 순으로 절차를 진행한다. \n",
    "\n",
    "    3. p-value 는 귀무가설이 옳다는 전제 하에 표본에서 실제로 관측된 통계값과 같거나 더 극단적인 통계값이 관측될 확률이다. \n",
    "\n",
    "    4. 평균이 뮤이고 분산이 시그마 제곱인 모집단으로부터 가능한 모든 n 개의 조합을 표본으로 추출하면 표본의 평균은 정규 분포에 접근한다. \n",
    "\n",
    "    5. 카이제곱 검정은 범주형 데이터의 통계 분석에 사용되는 검정으로, 2개의 범주형 변수 사이에 독립성을 판단한다. \n",
    "\n",
    "    6. ANOVA 분산분석은 모집단이 셋 이상인 경우, 이들의 평균이 서로 동일한지 테스트 한다. "
   ]
  },
  {
   "cell_type": "code",
   "execution_count": null,
   "metadata": {},
   "outputs": [],
   "source": []
  }
 ],
 "metadata": {
  "kernelspec": {
   "display_name": "Python 3",
   "language": "python",
   "name": "python3"
  },
  "language_info": {
   "codemirror_mode": {
    "name": "ipython",
    "version": 3
   },
   "file_extension": ".py",
   "mimetype": "text/x-python",
   "name": "python",
   "nbconvert_exporter": "python",
   "pygments_lexer": "ipython3",
   "version": "3.5.5"
  }
 },
 "nbformat": 4,
 "nbformat_minor": 2
}
